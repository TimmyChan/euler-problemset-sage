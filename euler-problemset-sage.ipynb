{
 "cells": [
  {
   "cell_type": "markdown",
   "id": "924169f5",
   "metadata": {
    "slideshow": {
     "slide_type": "slide"
    }
   },
   "source": [
    "# Euler Problemset using SAGEMath\n",
    "\n",
    "This [SAGEmath](https://www.sagemath.org/) (Python) Jupyter practice notebook exists as a portfolio component to demonstrate mastery to employers. Since I'm a big fan of SAGEmath, this is also somewhat of a case study for why SAGEmath make a lot of relatively complex mathematical questions simple to optimize. \n",
    "\n",
    "If you are solving the problems for the sake of learning and found yourself here, please read this excerpt from the [Project Euler](https://projecteuler.net/) page: \n",
    "> _There is nothing quite like that \"Aha!\" moment when you finally beat a problem which you have been working on for some time. It is often through the best of intentions in wishing to share our insights so that others can enjoy that moment too. Sadly, that will rarely be the case for your readers. Real learning is an active process and seeing how it is done is a long way from experiencing that epiphany of discovery. Please do not deny others what you have so richly valued yourself._"
   ]
  },
  {
   "cell_type": "markdown",
   "id": "0cd411b6",
   "metadata": {
    "slideshow": {
     "slide_type": "slide"
    }
   },
   "source": [
    "\n",
    "### Why SAGEmath for Project Euler Problems\n",
    "\n",
    "The approach to these problems focuses on using the appropriate tools to tackle appropriate problems. Since mathematical research software have seen significant optimization in NumPy, SciPy, etc., and C++ packages make things go vroom already, SAGEmath is appropriate because:\n",
    "\n",
    "0. **Accessibility**: Sagemath is _FOSS_ alternative to Magma, Maple, Mathematica, and MATLAB; designed by and for mathematics researchers, and usable for anyone who knows python.\n",
    "1. **Ease of Use**:\n",
    "   - [Linux installation](https://doc.sagemath.org/html/en/installation/linux.html#sec-gnu-linux) is super easy on Linux since Python and TeX come prepackaged in many distros. Windows and Mac simple installation also available too.\n",
    "   - [Jupyter integration] as demonstrated in this project. \n",
    "   - [CoCalc](https://cocalc.com/features/sage) allows for collaborative computational work (freemium).\n",
    "2. **Highly Optimized**: \"SageMath allows those students who are more interested in math than `malloc()` to spend more time thinking about math and less time figuring out why their code segfaults.\"\n"
   ]
  },
  {
   "cell_type": "markdown",
   "id": "60ae6c58",
   "metadata": {
    "slideshow": {
     "slide_type": "notes"
    }
   },
   "source": [
    "#### Notes:\n",
    "- `README.md` is the output of the `euler-problemset-sage.ipynb` file.\n",
    "- [LaTeX](https://www.latex-project.org/) elements in this document can be viewed using these browser extensions:\n",
    "   - [Native Mathml (Firefox)](https://addons.mozilla.org/en-US/firefox/addon/native-mathml/) [Source](https://github.com/fred-wang/webextension-native-mathml)\n",
    "   - [Tex All the Things (Chrome)](https://chrome.google.com/webstore/detail/tex-all-the-things/cbimabofgmfdkicghcadidpemeenbffn?hl=en) [Source](https://github.com/emichael/texthings)\n"
   ]
  },
  {
   "cell_type": "markdown",
   "id": "0c80b60e",
   "metadata": {
    "slideshow": {
     "slide_type": "slide"
    }
   },
   "source": [
    "## Problems and Solutions"
   ]
  },
  {
   "cell_type": "markdown",
   "id": "5a5222dd",
   "metadata": {
    "slideshow": {
     "slide_type": "slide"
    }
   },
   "source": [
    "### Problem 1\n",
    "If we list all the natural numbers below 10 that are multiples of 3 or 5, we get 3, 5, 6 and 9. The sum of these multiples is 23. Find the sum of all the multiples of 3 or 5 below 1000."
   ]
  },
  {
   "cell_type": "markdown",
   "id": "2a98ebc0",
   "metadata": {
    "slideshow": {
     "slide_type": "subslide"
    }
   },
   "source": [
    "#### Naive Solution:"
   ]
  },
  {
   "cell_type": "code",
   "execution_count": 1,
   "id": "dba57c57",
   "metadata": {
    "slideshow": {
     "slide_type": "fragment"
    }
   },
   "outputs": [
    {
     "data": {
      "text/plain": [
       "233168"
      ]
     },
     "execution_count": 1,
     "metadata": {},
     "output_type": "execute_result"
    }
   ],
   "source": [
    "# Python Simple Solution (1000 is so smol)\n",
    "\n",
    "sum([x for x in range(1,1000) if mod(x,3)==0 or mod(x,5)==0])"
   ]
  },
  {
   "cell_type": "markdown",
   "id": "b069acf1",
   "metadata": {
    "slideshow": {
     "slide_type": "subslide"
    }
   },
   "source": [
    "#### Math Solution:\n",
    "\n",
    "Note that for an arithimetic sequence, $$\\sum_{i=j}^k a_i =  \\frac {n (a_j + a_k)} 2, \\text{ where $n$ is the number of terms to be summed}$$ \n",
    "\n",
    "And in the case of all the multiples of 3 under 1000, we can simply find \n",
    "1. How many multiples of 3 exists from 1 up to 999? (n = 333).\n",
    "2. First Term: 3, Last term: 999.\n",
    "\n",
    "Furthermore, note that if we create the set of all the multiples of 3 up to 999, and if we then create the set of all multiples of 5 up to 999, the multiples of 15 is counted twice; so we simply need to evaluate the sum of the first two finite arithimetic series and take away the last."
   ]
  },
  {
   "cell_type": "code",
   "execution_count": 2,
   "id": "c672f590",
   "metadata": {
    "slideshow": {
     "slide_type": "subslide"
    }
   },
   "outputs": [
    {
     "data": {
      "text/plain": [
       "233168"
      ]
     },
     "execution_count": 2,
     "metadata": {},
     "output_type": "execute_result"
    }
   ],
   "source": [
    "# Using some arithimetic\n",
    "def sum_multiples_below(limit, divisor):\n",
    "    ''' Finds sum of all the natural numbers under the limit \n",
    "        that are divisible by the divisor'''\n",
    "    # The -1 on the upperbound is cuz the problem is \"strictly\" less than.\n",
    "    maxfactor = floor((limit-1)/divisor) \n",
    "    return (maxfactor)/2*(divisor + maxfactor*divisor)\n",
    "\n",
    "sum_multiples_below(1000, 3) + sum_multiples_below(1000, 5) - sum_multiples_below(1000,15)\n"
   ]
  },
  {
   "cell_type": "markdown",
   "id": "2e247ec2",
   "metadata": {
    "slideshow": {
     "slide_type": "subslide"
    }
   },
   "source": [
    "A Quick Comparision between the two methods:"
   ]
  },
  {
   "cell_type": "code",
   "execution_count": 3,
   "id": "f2a6bb25",
   "metadata": {
    "slideshow": {
     "slide_type": "subslide"
    }
   },
   "outputs": [
    {
     "name": "stdout",
     "output_type": "stream",
     "text": [
      "4.14 s ± 39.4 ms per loop (mean ± std. dev. of 7 runs, 1 loop each)\n",
      "5.35 µs ± 22.2 ns per loop (mean ± std. dev. of 7 runs, 100,000 loops each)\n"
     ]
    }
   ],
   "source": [
    "%timeit sum([x for x in range(1,1000000) if mod(x,3)==0 or mod(x,5)==0])\n",
    "\n",
    "%timeit sum_multiples_below(1000000, 3) + sum_multiples_below(1000000, 5) - sum_multiples_below(1000000,15)"
   ]
  },
  {
   "cell_type": "markdown",
   "id": "c4d0c9d9",
   "metadata": {
    "slideshow": {
     "slide_type": "slide"
    }
   },
   "source": [
    "### Problem 2\n",
    "\n",
    "Each new term in the Fibonacci sequence is generated by adding the previous two terms. By starting with 1 and 2, the first 10 terms will be: \n",
    "   \n",
    "   1, 2, 3, 5, 8, 13, 21, 34, 55, 89, ... \n",
    "   \n",
    "   By considering the terms in the Fibonacci sequence whose values do not exceed four million, find the sum of the even-valued terms."
   ]
  },
  {
   "cell_type": "markdown",
   "id": "3a00255c",
   "metadata": {
    "slideshow": {
     "slide_type": "subslide"
    }
   },
   "source": [
    "#### Naive Solution:\n",
    "Since the requirements is only up to 4 million, we're not really going so far down the fibonaccci sequence. \n",
    "(33 numbers to be added)."
   ]
  },
  {
   "cell_type": "code",
   "execution_count": 10,
   "id": "f8bfac0e",
   "metadata": {
    "slideshow": {
     "slide_type": "fragment"
    }
   },
   "outputs": [
    {
     "name": "stdout",
     "output_type": "stream",
     "text": [
      "We stopped at the 33-th Fibnocci number, 3524578\n"
     ]
    },
    {
     "data": {
      "text/plain": [
       "4613732"
      ]
     },
     "execution_count": 10,
     "metadata": {},
     "output_type": "execute_result"
    }
   ],
   "source": [
    "evensum = 0\n",
    "for i in range(1000): # some \"sensible\" upperbound for a computer in 2022\n",
    "    F = fibonacci(i)\n",
    "    if F > 4000000:\n",
    "        print(\"We stopped at the %d-th Fibnocci number, %d\" % (i-1, fibonacci(i-1)))\n",
    "        break\n",
    "    if mod(F,2) == 0:\n",
    "        evensum += F\n",
    "evensum"
   ]
  },
  {
   "cell_type": "markdown",
   "id": "0d3e5814",
   "metadata": {
    "slideshow": {
     "slide_type": "subslide"
    }
   },
   "source": [
    "#### Math Solution: \n",
    "\n",
    "First, recall the formal definition of the Fibonacci sequence:\n",
    "\n",
    "$$ F(n) = F(n-1) + F(n-2) \\text{ with } F(0) = 0 \\text{ and } F(1) = 1.$$\n",
    "\n",
    "Argument: \"Every Fibnocci number whose index is a multiple of three is even, and only those are even.\"\n",
    "Base case:\n",
    "$$\\begin{align*}\n",
    "F(1), F(2) \\text{ is odd } &\\implies F(3) \\text{ is even }; \\\\\n",
    "F(2) \\text{ is odd and } F(3) \\text{ is even } &\\implies F(4) \\text{ is odd }; \\\\\n",
    "F(3) \\text{ is even and }  F(4) \\text{ is odd } &\\implies F(5) \\text{ is odd }; \\\\\n",
    "F(4) \\text{ is odd and } F(5) \\text{ is odd } &\\implies F(6) \\text{ is even }.\n",
    "\\end{align*}$$\n",
    "\n",
    "Assuming that there exists two odd numbers in the sequence and the following must be even, then the same structure holds, and $F(n-2), F(n-1)$ is odd $\\implies F(n)$ must be even. Replacing the indcies of the above statements one will arrive then to the statement: $F(n)$ is even must imply F(n+3) is also even. Since F(3) is even, all index of even Fibnocci numbers are multiples of three. \n",
    "Q.E.D.\n",
    "\n",
    "That means we're really just summing up every third Fibnocci number."
   ]
  },
  {
   "cell_type": "markdown",
   "id": "a76143eb",
   "metadata": {
    "slideshow": {
     "slide_type": "subslide"
    }
   },
   "source": [
    "Summing every even fibnocci number is basically taking half of the sum:\n",
    "$$\\begin{align*}\n",
    "\\sum_{i=0}^{k} F(3i) &=  F(3) + F(6) + \\cdots + F(3k)\\\\\n",
    "&\\text{ by subsitution definiton of each term:} \\\\\n",
    "\\sum_{i=0}^{k} F(3i) &=  (F(1) + F(2)) + (F(4) + F(5)) + \\cdots + (F(3k-2) + F(3k-1))\\\\ \n",
    "& \\text{ add the above two lines } \\\\\n",
    "\\implies 2 \\sum_{i=0}^{k} F(3i) &= F(1) + F(2) + F(3) + \\cdots + F(3k) \\\\\n",
    "\\implies \\sum_{i=0}^{k} F(3i) &= \\frac 1 2 \\sum_{i=0}^{3k} F(i) \\\\\n",
    " \n",
    "\\end{align*}$$\n",
    "\n",
    "Recall a well known lemma on the sum of the first $k$ terms of the Fibnocci sequence $$\\displaystyle\\sum_{i=1}^k F(i) = F(k+2)-1,$$ which in turn imply $$\\sum_{i=0}^{k} F(3k) &= \\frac F(3k+2)-1 $$ where $3k$ is the index of the largest even Fibonocci number under the defined upperbound. "
   ]
  },
  {
   "cell_type": "markdown",
   "id": "993794ac",
   "metadata": {
    "slideshow": {
     "slide_type": "slide"
    }
   },
   "source": [
    "3. The prime factors of 13195 are 5, 7, 13 and 29.\n",
    "\n",
    "   What is the largest prime factor of the number 600851475143?"
   ]
  },
  {
   "cell_type": "code",
   "execution_count": 5,
   "id": "0e98b43a",
   "metadata": {
    "slideshow": {
     "slide_type": "subslide"
    }
   },
   "outputs": [
    {
     "name": "stdout",
     "output_type": "stream",
     "text": [
      "5.3 µs ± 11.9 ns per loop (mean ± std. dev. of 7 runs, 100,000 loops each)\n"
     ]
    },
    {
     "data": {
      "text/plain": [
       "71 * 839 * 1471 * 6857"
      ]
     },
     "execution_count": 5,
     "metadata": {},
     "output_type": "execute_result"
    }
   ],
   "source": [
    "%timeit factor(600851475143)\n",
    "\n",
    "factor(600851475143)"
   ]
  },
  {
   "cell_type": "markdown",
   "id": "fcabae26",
   "metadata": {
    "slideshow": {
     "slide_type": "slide"
    }
   },
   "source": [
    "4. A palindromic number reads the same both ways. The largest palindrome made from the product of two 2-digit numbers is 9009 = 91 × 99.\n",
    "\n",
    "   Find the largest palindrome made from the product of two 3-digit numbers."
   ]
  },
  {
   "cell_type": "code",
   "execution_count": 6,
   "id": "c6f38c9d",
   "metadata": {
    "slideshow": {
     "slide_type": "subslide"
    }
   },
   "outputs": [
    {
     "name": "stdout",
     "output_type": "stream",
     "text": [
      "906609\n"
     ]
    }
   ],
   "source": [
    "m = 999\n",
    "n = 999\n",
    "\n",
    "palindrome_prod = []\n",
    "\n",
    "while m > 100:\n",
    "    while n >= m:\n",
    "        prod = m*n\n",
    "        if Word(str(prod)).is_palindrome():\n",
    "            palindrome_prod.append(prod)\n",
    "        n -= 1\n",
    "    m -= 1\n",
    "    n = 999\n",
    "\n",
    "print(max(palindrome_prod))"
   ]
  },
  {
   "cell_type": "markdown",
   "id": "db75f707",
   "metadata": {
    "slideshow": {
     "slide_type": "slide"
    }
   },
   "source": [
    "2520 is the smallest number that can be divided by each of the numbers from 1 to 10 without any remainder.\n",
    "\n",
    "What is the smallest positive number that is evenly divisible by all of the numbers from 1 to 20?"
   ]
  },
  {
   "cell_type": "code",
   "execution_count": 7,
   "id": "091f2fbc",
   "metadata": {
    "slideshow": {
     "slide_type": "subslide"
    }
   },
   "outputs": [
    {
     "name": "stdout",
     "output_type": "stream",
     "text": [
      "1.83 µs ± 7.76 ns per loop (mean ± std. dev. of 7 runs, 1,000,000 loops each)\n"
     ]
    }
   ],
   "source": [
    "%%timeit \n",
    "lcm(range(1,21))"
   ]
  },
  {
   "cell_type": "markdown",
   "id": "3aaf929a",
   "metadata": {
    "slideshow": {
     "slide_type": "slide"
    }
   },
   "source": [
    "The sum of the squares of the first ten natural numbers is 385\n",
    "\n",
    "The square of the sum of the first ten natural numbers is 3025\n",
    "\n",
    "Hence the difference between the sum of the squares of the first ten natural numbers and the square of the sum is .\n",
    "\n",
    "Find the difference between the sum of the squares of the first one hundred natural numbers and the square of the sum."
   ]
  },
  {
   "cell_type": "code",
   "execution_count": 8,
   "id": "9c5942e2",
   "metadata": {
    "slideshow": {
     "slide_type": "subslide"
    }
   },
   "outputs": [
    {
     "data": {
      "text/plain": [
       "25164150"
      ]
     },
     "execution_count": 8,
     "metadata": {},
     "output_type": "execute_result"
    }
   ],
   "source": [
    "sum(range(1,101))^2 - sum([x^2 for x in range(1,101)])"
   ]
  },
  {
   "cell_type": "code",
   "execution_count": null,
   "id": "3f872e96",
   "metadata": {
    "slideshow": {
     "slide_type": "skip"
    }
   },
   "outputs": [],
   "source": []
  }
 ],
 "metadata": {
  "celltoolbar": "Slideshow",
  "kernelspec": {
   "display_name": "SageMath 9.0",
   "language": "sage",
   "name": "sagemath"
  },
  "language_info": {
   "codemirror_mode": {
    "name": "ipython",
    "version": 3
   },
   "file_extension": ".py",
   "mimetype": "text/x-python",
   "name": "python",
   "nbconvert_exporter": "python",
   "pygments_lexer": "ipython3",
   "version": "3.8.10"
  }
 },
 "nbformat": 4,
 "nbformat_minor": 5
}
