{
 "cells": [
  {
   "cell_type": "code",
   "execution_count": 1,
   "id": "b3916a65",
   "metadata": {},
   "outputs": [],
   "source": [
    "import os\n",
    "notebook_path = os.path.abspath(\"euler-problemset-sage.ipynb\")\n"
   ]
  },
  {
   "cell_type": "markdown",
   "id": "ab6b5caa",
   "metadata": {
    "slideshow": {
     "slide_type": "slide"
    }
   },
   "source": [
    "# Project Euler Problemset \n",
    "## With SAGEMath and Jupyter\n",
    "\n",
    "Editor: [Timmy L. Chan](https://github.com/TimmyChan)"
   ]
  },
  {
   "cell_type": "markdown",
   "id": "4a76c16b",
   "metadata": {
    "slideshow": {
     "slide_type": "skip"
    }
   },
   "source": [
    "This [SAGEmath](https://www.sagemath.org/) (Python) Jupyter practice notebook exists as a portfolio component to demonstrate mastery to employers. Since I'm a big fan of SAGEmath, this is also somewhat of a case study for why SAGEmath make a lot of relatively complex mathematical questions simple to optimize. \n",
    "\n",
    "If you are solving the problems for the sake of learning and found yourself here, please read this excerpt from the [Project Euler](https://projecteuler.net/) page: \n",
    "> _There is nothing quite like that \"Aha!\" moment when you finally beat a problem which you have been working on for some time. It is often through the best of intentions in wishing to share our insights so that others can enjoy that moment too. Sadly, that will rarely be the case for your readers. Real learning is an active process and seeing how it is done is a long way from experiencing that epiphany of discovery. Please do not deny others what you have so richly valued yourself._"
   ]
  },
  {
   "cell_type": "markdown",
   "id": "8cc16c33",
   "metadata": {
    "slideshow": {
     "slide_type": "slide"
    }
   },
   "source": [
    "\n",
    "### Why SAGEmath for Project Euler Problems\n",
    "\n",
    "The approach to these problems focuses on using the appropriate tools to tackle appropriate problems. Since mathematical research software have seen significant optimization in NumPy, SciPy, etc., and C++ packages make things go vroom already.\n",
    "\n",
    "1. **Accessibility**: Sagemath is _FOSS_ alternative to Magma, Maple, Mathematica, and MATLAB; designed by and for mathematics researchers, and usable for anyone who knows python.\n",
    "2. **Ease of Use**: [Linux installation](https://doc.sagemath.org/html/en/installation/linux.html#sec-gnu-linux) is super easy on Linux since Python and TeX come prepackaged in many distros. Windows and Mac simple installation also available too. For collaboration, [CoCalc](https://cocalc.com/features/sage) allows for collaborative work (freemium).\n",
    "3. **Highly Optimized**: \"SageMath allows those students who are more interested in math than `malloc()` to spend more time thinking about math and less time figuring out why their code segfaults.\""
   ]
  },
  {
   "cell_type": "markdown",
   "id": "a93fb715",
   "metadata": {
    "slideshow": {
     "slide_type": "notes"
    }
   },
   "source": [
    "#### Notes:\n",
    "- `README.md` is the output of the `euler-problemset-sage.ipynb` file.\n",
    "- [LaTeX](https://www.latex-project.org/) elements in this document can be viewed using these browser extensions:\n",
    "   - [Native Mathml (Firefox)](https://addons.mozilla.org/en-US/firefox/addon/native-mathml/) [Source](https://github.com/fred-wang/webextension-native-mathml)\n",
    "   - [Tex All the Things (Chrome)](https://chrome.google.com/webstore/detail/tex-all-the-things/cbimabofgmfdkicghcadidpemeenbffn?hl=en) [Source](https://github.com/emichael/texthings)\n"
   ]
  },
  {
   "cell_type": "markdown",
   "id": "511e07ab",
   "metadata": {
    "slideshow": {
     "slide_type": "slide"
    }
   },
   "source": [
    "## Problems and Solutions"
   ]
  },
  {
   "cell_type": "markdown",
   "id": "9ecc273c",
   "metadata": {
    "slideshow": {
     "slide_type": "slide"
    }
   },
   "source": [
    "### Problem 1\n",
    "If we list all the natural numbers below 10 that are multiples of 3 or 5, we get 3, 5, 6 and 9. The sum of these multiples is 23. Find the sum of all the multiples of 3 or 5 below 1000."
   ]
  },
  {
   "cell_type": "markdown",
   "id": "b6958de3",
   "metadata": {
    "slideshow": {
     "slide_type": "subslide"
    }
   },
   "source": [
    "#### Naive Solution:"
   ]
  },
  {
   "cell_type": "code",
   "execution_count": 2,
   "id": "7d5721c1",
   "metadata": {
    "slideshow": {
     "slide_type": "fragment"
    }
   },
   "outputs": [
    {
     "data": {
      "text/plain": [
       "233168"
      ]
     },
     "execution_count": 2,
     "metadata": {},
     "output_type": "execute_result"
    }
   ],
   "source": [
    "# Python Simple Solution (1000 is so smol)\n",
    "sum([x for x in range(1,1000) if mod(x,3)==0 or mod(x,5)==0])"
   ]
  },
  {
   "cell_type": "markdown",
   "id": "0d111a15",
   "metadata": {
    "slideshow": {
     "slide_type": "subslide"
    }
   },
   "source": [
    "#### Math Solution:\n",
    "\n",
    "Note that for an arithimetic sequence\n",
    "\n",
    "$$\\sum_{i=j}^k a_i =  \\frac {n (a_j + a_k)} 2,$$ \n",
    "\n",
    "where $n$ is the number of terms to be summed.\n",
    "\n",
    "1. How many multiples of 3 exists from 1 up to 999? ($n = \\left\\lfloor \\frac{1000} 3 \\right\\rfloor = 333$).\n",
    "2. First Term: 3, Last term: 999.\n",
    "\n",
    "Furthermore, note that if we create the set of all the multiples of 3 up to 999, and if we then create the set of all multiples of 5 up to 999, the multiples of 15 is counted twice; so we simply need to evaluate the sum of the first two finite arithimetic series and take away the last."
   ]
  },
  {
   "cell_type": "code",
   "execution_count": 3,
   "id": "517afccd",
   "metadata": {
    "slideshow": {
     "slide_type": "subslide"
    }
   },
   "outputs": [
    {
     "data": {
      "text/plain": [
       "233168"
      ]
     },
     "execution_count": 3,
     "metadata": {},
     "output_type": "execute_result"
    }
   ],
   "source": [
    "# Using some arithimetic\n",
    "def sum_multiples_below(limit, divisor):\n",
    "    ''' Finds sum of all the natural numbers under the limit \n",
    "        that are divisible by the divisor'''\n",
    "    # The -1 on the upperbound is cuz the problem is \"strictly\" less than.\n",
    "    maxfactor = floor((limit-1)/divisor) \n",
    "    return (maxfactor)/2*(divisor + maxfactor*divisor)\n",
    "\n",
    "sum_multiples_below(1000, 3) + sum_multiples_below(1000, 5) - sum_multiples_below(1000,15)"
   ]
  },
  {
   "cell_type": "markdown",
   "id": "3a48c285",
   "metadata": {
    "slideshow": {
     "slide_type": "subslide"
    }
   },
   "source": [
    "A Quick Comparision between the two methods:"
   ]
  },
  {
   "cell_type": "code",
   "execution_count": 4,
   "id": "bf3a30f1",
   "metadata": {
    "slideshow": {
     "slide_type": "fragment"
    }
   },
   "outputs": [
    {
     "name": "stdout",
     "output_type": "stream",
     "text": [
      "4.29 s ± 109 ms per loop (mean ± std. dev. of 7 runs, 1 loop each)\n",
      "5.2 µs ± 57.5 ns per loop (mean ± std. dev. of 7 runs, 100,000 loops each)\n"
     ]
    }
   ],
   "source": [
    "# Comparison of the functions with large input\n",
    "large_input = Integer(1e6)\n",
    "%timeit sum([x for x in range(1,large_input) if mod(x,3)==0 or mod(x,5)==0])\n",
    "%timeit sum_multiples_below(large_input, 3) + sum_multiples_below(large_input, 5) - sum_multiples_below(large_input,15)"
   ]
  },
  {
   "cell_type": "markdown",
   "id": "d7f7daf1",
   "metadata": {
    "slideshow": {
     "slide_type": "slide"
    }
   },
   "source": [
    "### Problem 2\n",
    "\n",
    "Each new term in the Fibonacci sequence is generated by adding the previous two terms. By starting with 1 and 2, the first 10 terms will be: \n",
    "   \n",
    "   1, 2, 3, 5, 8, 13, 21, 34, 55, 89, ... \n",
    "   \n",
    "   By considering the terms in the Fibonacci sequence whose values do not exceed four million, find the sum of the even-valued terms."
   ]
  },
  {
   "cell_type": "markdown",
   "id": "1a623155",
   "metadata": {
    "slideshow": {
     "slide_type": "subslide"
    }
   },
   "source": [
    "#### Naive Solution:\n",
    "Since the requirements is only up to 4 million, we're not really going so far down the fibonaccci sequence. Here's the literal interpretation of the last sentence in code: "
   ]
  },
  {
   "cell_type": "code",
   "execution_count": 5,
   "id": "c6291529",
   "metadata": {
    "slideshow": {
     "slide_type": "fragment"
    }
   },
   "outputs": [
    {
     "name": "stdout",
     "output_type": "stream",
     "text": [
      "4613732\n"
     ]
    }
   ],
   "source": [
    " def even_fib_sum(upperbound):\n",
    "    evensum = 0\n",
    "    i = 0\n",
    "    F = 0\n",
    "    while F < upperbound:\n",
    "        if mod(F,2) == 0:\n",
    "            evensum += F\n",
    "        i += 1\n",
    "        F = fibonacci(i)\n",
    "    return evensum\n",
    "\n",
    "print(even_fib_sum(4000000))"
   ]
  },
  {
   "cell_type": "markdown",
   "id": "776baab8",
   "metadata": {
    "slideshow": {
     "slide_type": "subslide"
    }
   },
   "source": [
    "#### Math Solution: \n",
    "\n",
    "First, recall the formal definition of the Fibonacci sequence. Given some natural number \n",
    "$n$, the \n",
    "$n$-th Fibonacci number, \n",
    "$F(n)$ is defined to be:\n",
    "\n",
    "\\begin{equation}\n",
    "F(n) = F(n-1) + F(n-2) \\text{ with } F(0) = 0 \\text{ and } F(1) = 1.\n",
    "\\end{equation}\n",
    "\n",
    "__Claims:__"
   ]
  },
  {
   "cell_type": "markdown",
   "id": "a86160f4",
   "metadata": {
    "slideshow": {
     "slide_type": "fragment"
    }
   },
   "source": [
    "1. Every Fibnocci number whose index is a multiple of three is even, and only those are even.\n",
    "\n",
    "2. The sum of _even_ Fibonacci numbers beginning from \n",
    "$F(0)$ up to some \n",
    "$F(n)$ is exactly half of the sum of all the Fibonacci numbers up to \n",
    "$F(n)$\n",
    "\n",
    "3. This sum can be evaluated with \n",
    "\\begin{equation}\n",
    "\\displaystyle\\frac{(F(n+2)-1)} 2\n",
    "\\end{equation}"
   ]
  },
  {
   "cell_type": "markdown",
   "id": "a5b104a1",
   "metadata": {
    "slideshow": {
     "slide_type": "subslide"
    }
   },
   "source": [
    "__Proofs:__ \n",
    "\n",
    "Claim 1: _Every Fibnocci number whose index is a multiple of three is even, and only those are even._\n",
    "\n",
    "Base case:\n",
    "\n",
    "\\begin{align}\n",
    "F(1), F(2) \\text{ is odd } &\\implies F(3) \\text{ is even }; \\\\\n",
    "F(2) \\text{ is odd and } F(3) \\text{ is even } &\\implies F(4) \\text{ is odd }; \\\\\n",
    "F(3) \\text{ is even and }  F(4) \\text{ is odd } &\\implies F(5) \\text{ is odd }; \\\\\n",
    "F(4) \\text{ is odd and } F(5) \\text{ is odd } &\\implies F(6) \\text{ is even }.\n",
    "\\end{align}\n",
    "\n",
    "Assuming that there exists two odd numbers in the sequence and the following must be even, then the same structure holds, and $$F(n-2), F(n-1)\\text{ both odd }\\implies F(n)\\text{ must be even.}$$ Replacing the indcies of the above statements one will arrive then to the statement: $F(n)$ is even must imply F(n+3) is also even. Since F(3) is even, all index of even Fibnocci numbers are multiples of three. \n",
    "Q.E.D.\n",
    "\n",
    "That means we're really just summing up every third Fibnocci number."
   ]
  },
  {
   "cell_type": "markdown",
   "id": "4c5afbca",
   "metadata": {
    "slideshow": {
     "slide_type": "subslide"
    }
   },
   "source": [
    "__Proof:__\n",
    "\n",
    "Claim 2: _The sum of even Fibonacci numbers beginning from $F(0)$ up to some $F(n)$ is exactly half of the sum of all the Fibonacci numbers up to $F(n)$_\n",
    "\n",
    "\\begin{align}\n",
    "\\sum_{i=0}^{k} F(3i) &=  F(3) + F(6) + \\cdots + F(3k)\\\\\n",
    "&\\text{ by subsitution definiton of each term:} \\\\\n",
    "\\sum_{i=0}^{k} F(3i) &=  (F(1) + F(2)) + (F(4) + F(5)) + \\cdots + (F(3k-2) + F(3k-1))\\\\ \n",
    "& \\text{ add the above two lines } \\\\\n",
    "\\implies 2 \\sum_{i=0}^{k} F(3i) &= F(1) + F(2) + F(3) + \\cdots + F(3k) \\\\\n",
    "\\implies \\sum_{i=0}^{k} F(3i) &= \\frac 1 2 \\sum_{i=0}^{3k} F(i) \\\\ \n",
    "\\end{align}\n"
   ]
  },
  {
   "cell_type": "markdown",
   "id": "59ba8806",
   "metadata": {
    "slideshow": {
     "slide_type": "subslide"
    }
   },
   "source": [
    "Recall a well known lemma on the sum of the first $k$ terms of the Fibnocci sequence is exactly the $k+2$-th Fibnocci number minus one: \n",
    "\n",
    "\\begin{align}\n",
    "\\displaystyle\\sum_{i=1}^k F(i) &= F(k+2)-1,\\\\\n",
    "\\therefore \\sum_{i=0}^{k} F(3i) &= \\frac 1 2 \\sum_{i=0}^{3k} F(i) = \\frac{F(3k+2)-1} 2,\n",
    "\\end{align}\n",
    "\n",
    "where $3k$ is the index of the largest even Fibonocci number under the defined upperbound. This index $3k$ such that $F(n) < M$ for some upperbound $M$ requires a couple of steps:\n",
    "1. Note $F_{3k} \\approx \\left\\lfloor\\frac{\\Phi^{3k}}{\\sqrt{5}}\\right\\rfloor$\n",
    "2. Thus, Given some $M$, we can estimate $n$ by examining the inverse:\n",
    "\\begin{align}\n",
    "M \\approx \\frac{\\Phi^{3k}}{\\sqrt{5}}\\\\\n",
    "\\implies \\ln\\left(\\sqrt{5} M\\right) &\\approx 3k \\ln(\\Phi) \\\\\n",
    "\\implies \\frac{\\ln\\left(\\sqrt{5} M\\right)}{\\ln(\\Phi)} &\\approx 3k\n",
    "\\end{align}"
   ]
  },
  {
   "cell_type": "code",
   "execution_count": 6,
   "id": "dd02edad",
   "metadata": {
    "slideshow": {
     "slide_type": "subslide"
    }
   },
   "outputs": [
    {
     "name": "stdout",
     "output_type": "stream",
     "text": [
      "4613732\n"
     ]
    }
   ],
   "source": [
    "def even_fib_sum_quick(upperbound):\n",
    "    # Quick estimate of Fibnacci index since Fib(n) is approx Phi^n / sqrt(5).\n",
    "    max_fib_index_est = int(round((ln(upperbound * sqrt(5))/ln(golden_ratio)), 0))\n",
    "    \n",
    "    # Nearest even fibonacci has index that is a multiple of 3\n",
    "    max_even_fib_index_est = max_fib_index_est - (max_fib_index_est % 3)\n",
    "    \n",
    "    return round((fibonacci(max_even_fib_index_est+2)-1)/2,0)\n",
    "\n",
    "print(even_fib_sum_quick(4000000))"
   ]
  },
  {
   "cell_type": "code",
   "execution_count": 7,
   "id": "8977d1ca",
   "metadata": {
    "slideshow": {
     "slide_type": "fragment"
    }
   },
   "outputs": [
    {
     "name": "stdout",
     "output_type": "stream",
     "text": [
      "2.41 ms ± 32.9 µs per loop (mean ± std. dev. of 7 runs, 100 loops each)\n",
      "236 µs ± 3.72 µs per loop (mean ± std. dev. of 7 runs, 1,000 loops each)\n"
     ]
    },
    {
     "data": {
      "text/plain": [
       "True"
      ]
     },
     "execution_count": 7,
     "metadata": {},
     "output_type": "execute_result"
    }
   ],
   "source": [
    "# Comparing the methods with large input\n",
    "large_input = Integer(1e100)\n",
    "%timeit even_fib_sum(large_input)\n",
    "%timeit even_fib_sum_quick(large_input)\n",
    "even_fib_sum(large_input) == even_fib_sum_quick(large_input)"
   ]
  },
  {
   "cell_type": "markdown",
   "id": "61420a40",
   "metadata": {
    "slideshow": {
     "slide_type": "slide"
    }
   },
   "source": [
    "#### Problem 3\n",
    "\n",
    "The prime factors of 13195 are 5, 7, 13 and 29.\n",
    "What is the largest prime factor of the number 600851475143?\n",
    "\n",
    "__Remarks:__\n",
    "Prime factorization is already optimized in SAGEmath."
   ]
  },
  {
   "cell_type": "code",
   "execution_count": 8,
   "id": "cb30bacb",
   "metadata": {
    "slideshow": {
     "slide_type": "fragment"
    }
   },
   "outputs": [
    {
     "name": "stdout",
     "output_type": "stream",
     "text": [
      "5.59 µs ± 239 ns per loop (mean ± std. dev. of 7 runs, 100,000 loops each)\n",
      "71 * 839 * 1471 * 6857\n"
     ]
    }
   ],
   "source": [
    "%timeit factor(600851475143)\n",
    "print(factor(600851475143))"
   ]
  },
  {
   "cell_type": "markdown",
   "id": "ab33d47c",
   "metadata": {
    "slideshow": {
     "slide_type": "slide"
    }
   },
   "source": [
    "#### Problem 4\n",
    "A palindromic number reads the same both ways. The largest palindrome made from the product of two 2-digit numbers is 9009 = 91 × 99.\n",
    "\n",
    "Find the largest palindrome made from the product of two 3-digit numbers.\n",
    "\n",
    "__Remarks__: \n",
    "\n",
    "First, we begin with picturing these products a $M \\times M$ matrix $\\mathbf{P}$, where $M$ is the maximum listed above (999 in this case). \n",
    "\\begin{equation}\n",
    "P_{m,n} =  mn \\text{ where } m,n \\in \\mathbb{N}_{\\leq M}\n",
    "\\end{equation}\n",
    "\n",
    "So $P_{999,999} = 999^2$, for example. Suppose we fix the sum of the indcies, say $k \\in \\mathbb{N}$ such that $M + 1 \\leq k \\leq 2M$. \n"
   ]
  },
  {
   "cell_type": "code",
   "execution_count": 9,
   "id": "09bddb34",
   "metadata": {
    "slideshow": {
     "slide_type": "subslide"
    }
   },
   "outputs": [
    {
     "data": {
      "text/plain": [
       "906609"
      ]
     },
     "execution_count": 9,
     "metadata": {},
     "output_type": "execute_result"
    }
   ],
   "source": [
    "def find_largest_palindrome_product(lower=100, upper=999):\n",
    "    '''\n",
    "    List every product\n",
    "    find every palindrome\n",
    "    then return max\n",
    "    '''\n",
    "    m = upper\n",
    "    n = upper\n",
    "    palindrome_prod = []\n",
    "    while m > lower:\n",
    "        while n >= m:\n",
    "            prod = m*n\n",
    "            if Word(str(prod)).is_palindrome():\n",
    "                palindrome_prod.append(prod)\n",
    "            n -= 1\n",
    "        m -= 1\n",
    "        n = upper\n",
    "    return max(palindrome_prod)\n",
    "find_largest_palindrome_product()"
   ]
  },
  {
   "cell_type": "markdown",
   "id": "879a6c7d",
   "metadata": {
    "slideshow": {
     "slide_type": "subslide"
    }
   },
   "source": [
    "__Using Sensible Math__\n",
    "\n",
    "Let's arrange these sets into vectors; the vector $V_k$ as entry at the $j$-th term as:\n",
    "\n",
    "$$(V_k)_j = \\begin{cases}\n",
    "(\\frac k 2 - j)(\\frac k 2 + j) \\text{ for } c = 0, \\ldots, M - \\frac k 2 & \\text{ When $k$ is even} \\\\\n",
    "(\\frac{k-1} 2  - j)(\\frac {k-1} 2 +1 + j) \\text{ for } c = 0, \\ldots, M - \\frac {k-1} 2& \\text{ When $k$ is odd}\n",
    "\\end{cases} $$\n",
    "Each of these vectors is an arrangement of the products of the form $ab$ for any natural numbers $a,b$ such that $a + b =k$. \n",
    "\n",
    "Visually, we're scanning the matrix using an entry along the main diagonal (or one above it when $k$ is odd) as starting points, and iterating over the matrix cells by going \"up one, right one\" to evaluate each of these products --- this saves time in sorting. This describes the bottom right half of the matrix above the main diagonal. $$ (V_{k})_c \\geq (V_{k-2})_c$$ simply because $ab > (a-1)(b-1)$ for positive $a,b$. However, examining the max terms of $V_{k-1}$ and the minimum of $V_{k}$ shows that as $k$ decreases, there will be some point where $V_{k-1}$ and $V_{k}$ begin to contain non decreasing intervals.\n",
    "\n",
    "In implementation, this means to be careful when iterating through a matrix in this way, and we have to check for one more vector beyond what we have.\n",
    "\n"
   ]
  },
  {
   "cell_type": "markdown",
   "id": "e6d66be8",
   "metadata": {
    "slideshow": {
     "slide_type": "notes"
    }
   },
   "source": [
    "This is a decreasing sequence given a fixed $k$, justified by the fact that the product of two terms, given that their sum is fixed, is maximized when $a =b$ (or as close as possible when a+b is odd). The proof is exactly the same as a standard Calculus I problem about max area given fixed length fence.\n",
    "\n",
    "\n",
    "$$\\begin{align*}\n",
    " (2 a c + c ^ 2) &> 0 \\\\\n",
    "c (2 a + c) \\uparrow & \\text{ as } c \\uparrow \\\\\n",
    "(a + c) (a - c) &= a^2 - 2ac - c^2 \\\\\n",
    "a^2 - (2ac + c^2) &< a^2 \\\\\n",
    "\\end{align*}\n",
    "$$"
   ]
  },
  {
   "cell_type": "code",
   "execution_count": 10,
   "id": "08e5a114",
   "metadata": {
    "slideshow": {
     "slide_type": "subslide"
    }
   },
   "outputs": [
    {
     "data": {
      "text/plain": [
       "906609"
      ]
     },
     "execution_count": 10,
     "metadata": {},
     "output_type": "execute_result"
    }
   ],
   "source": [
    "# FAST\n",
    "def prod_list(index_sum, lower, upper):\n",
    "    '''\n",
    "    Given some k, go through and list a*b where \n",
    "    a, b in [lower, upper] and\n",
    "    a + b = k\n",
    "    '''\n",
    "    prods = []\n",
    "    if is_even(index_sum):\n",
    "            n = index_sum / 2\n",
    "            m = index_sum / 2\n",
    "    else:\n",
    "            n = floor(index_sum / 2) +1\n",
    "            m = floor(index_sum / 2)\n",
    "    while n <= upper and m >= lower:\n",
    "        prods.append(m*n)\n",
    "        n += 1\n",
    "        m -= 1\n",
    "    return prods\n",
    "\n",
    "def find_largest_palindrome_product_fast(lower=1,upper=999):\n",
    "    ''' \n",
    "    Finds Largest Palindrome formed by the product of two numbers\n",
    "    from the interval [lower, upper]. Returns None if none found.\n",
    "    '''\n",
    "    if lower <= 0:\n",
    "        lower = 1\n",
    "    # good habit to consider exceptions for when people use your methods in strange ways\n",
    "    if upper < lower:\n",
    "        raise Exception(\"Upper bound cannot be less than lower bound.\")\n",
    "    m = upper\n",
    "    n = upper\n",
    "    s = m+n\n",
    "    palindromes = []\n",
    "    for i in range(2*(upper-lower)):\n",
    "        index_sum = 2*upper - i\n",
    "        # Get a vector as defined in previous slide\n",
    "        vector = prod_list(index_sum, lower, upper)\n",
    "        # Check for palindromes\n",
    "        palindromes = [prod for prod in vector if Word(str(prod)).is_palindrome()]\n",
    "        #print(vector,palindromes)\n",
    "        if len(palindromes) > 0:\n",
    "            # being safe here, as above, we have to check one more vector\n",
    "            vector = prod_list(index_sum -1, lower, upper)\n",
    "            next_palindromes = [prod for prod in vector if Word(str(prod)).is_palindrome()]\n",
    "            # attaching the new list of palindromes if it exists\n",
    "            palindromes += next_palindromes\n",
    "            break\n",
    "    return max([int(p) for p in palindromes])\n",
    "\n",
    "    \n",
    "        \n",
    "find_largest_palindrome_product_fast(1, 999)\n"
   ]
  },
  {
   "cell_type": "markdown",
   "id": "13373fdd",
   "metadata": {
    "slideshow": {
     "slide_type": "slide"
    }
   },
   "source": [
    "#### Problem 5\n",
    "\n",
    "2520 is the smallest number that can be divided by each of the numbers from 1 to 10 without any remainder.\n",
    "\n",
    "What is the smallest positive number that is evenly divisible by all of the numbers from 1 to 20?\n",
    "\n",
    "__Remarks:__ By definition, the least common multiple, $m$, of a set of natural numbers $n_1, \\ldots, n_k$, is the smallest number such that $n_i | m$ for $i = 1,\\ldots, k$. "
   ]
  },
  {
   "cell_type": "code",
   "execution_count": 11,
   "id": "afc92266",
   "metadata": {
    "slideshow": {
     "slide_type": "subslide"
    }
   },
   "outputs": [
    {
     "name": "stdout",
     "output_type": "stream",
     "text": [
      "2.02 µs ± 52.6 ns per loop (mean ± std. dev. of 7 runs, 100,000 loops each)\n"
     ]
    },
    {
     "data": {
      "text/plain": [
       "232792560"
      ]
     },
     "execution_count": 11,
     "metadata": {},
     "output_type": "execute_result"
    }
   ],
   "source": [
    "%timeit lcm(range(1,21))\n",
    "lcm(range(1,21))"
   ]
  },
  {
   "cell_type": "markdown",
   "id": "5675b572",
   "metadata": {
    "slideshow": {
     "slide_type": "slide"
    }
   },
   "source": [
    "#### Problem 6\n",
    "\n",
    "The sum of the squares of the first ten natural numbers is 385.\n",
    "\n",
    "The square of the sum of the first ten natural numbers is 3025.\n",
    "\n",
    "Hence the difference between the sum of the squares of the first ten natural numbers and the square of the sum is 3025 - 385 = 2640.\n",
    "\n",
    "Find the difference between the sum of the squares of the first one hundred natural numbers and the square of the sum."
   ]
  },
  {
   "cell_type": "code",
   "execution_count": 12,
   "id": "dc9e7ea2",
   "metadata": {
    "slideshow": {
     "slide_type": "subslide"
    }
   },
   "outputs": [
    {
     "data": {
      "text/plain": [
       "25164150"
      ]
     },
     "execution_count": 12,
     "metadata": {},
     "output_type": "execute_result"
    }
   ],
   "source": [
    "#Naive: Literal interpretation:\n",
    "def naive_diff(upper=100):\n",
    "    return sum(range(1,upper+1))^2 - sum([x^2 for x in range(1,upper+1)])\n",
    "\n",
    "naive_diff()"
   ]
  },
  {
   "cell_type": "markdown",
   "id": "8664027a",
   "metadata": {
    "slideshow": {
     "slide_type": "subslide"
    }
   },
   "source": [
    "__Mathematical Approach:__\n",
    "See this [proof](https://math.stackexchange.com/questions/48080/sum-of-first-n-squares-equals-fracnn12n16) for the first line.\n",
    "\\begin{align}\n",
    "\\sum_{n=1}^k n^2 &= \\frac{n(n+1)(2n+1)}{6} \\\\\n",
    "\\left( \\sum_{n=1}^k n  \\right)^2 &= \\left( \\frac { n(n+1)} 2 \\right)^2\\\\\n",
    "\\therefore \\left( \\sum_{n=1}^k n  \\right)^2 - \\sum_{n=1}^k n^2 &= \\left( \\frac { n(n+1)} 2 \\right)^2 - \\frac{n(n+1)(2n+1)}{6} \\\\\n",
    "&= \\frac{3n^2(n+1)^2}{12} - \\frac{2n(n+1)(2n+1)}{12} \\\\\n",
    "&= \\frac{n((n-1)(3n+2))(n+1)}{12}\n",
    "\\end{align}"
   ]
  },
  {
   "cell_type": "code",
   "execution_count": 13,
   "id": "c5c24263",
   "metadata": {
    "slideshow": {
     "slide_type": "fragment"
    }
   },
   "outputs": [
    {
     "data": {
      "text/plain": [
       "25164150"
      ]
     },
     "execution_count": 13,
     "metadata": {},
     "output_type": "execute_result"
    }
   ],
   "source": [
    "def fast_diff(upper=100):\n",
    "    return (upper*((upper-1)*(3*upper+2))*(upper+1))/12\n",
    "\n",
    "fast_diff()"
   ]
  },
  {
   "cell_type": "code",
   "execution_count": 14,
   "id": "a8c19be5",
   "metadata": {
    "slideshow": {
     "slide_type": "subslide"
    }
   },
   "outputs": [
    {
     "name": "stdout",
     "output_type": "stream",
     "text": [
      "3.23 ms ± 18.6 µs per loop (mean ± std. dev. of 7 runs, 100 loops each)\n",
      "727 ns ± 6.39 ns per loop (mean ± std. dev. of 7 runs, 1,000,000 loops each)\n"
     ]
    },
    {
     "data": {
      "text/plain": [
       "2500166641665000"
      ]
     },
     "execution_count": 14,
     "metadata": {},
     "output_type": "execute_result"
    }
   ],
   "source": [
    "large_input = Integer(1e4)\n",
    "%timeit naive_diff(large_input)\n",
    "%timeit fast_diff(large_input)\n",
    "\n",
    "naive_diff(large_input)\n",
    "fast_diff(large_input)"
   ]
  },
  {
   "cell_type": "markdown",
   "id": "1ed7f30b",
   "metadata": {
    "slideshow": {
     "slide_type": "slide"
    }
   },
   "source": [
    "#### Problem 7\n",
    "By listing the first six prime numbers: 2, 3, 5, 7, 11, and 13, we can see that the 6th prime is 13.\n",
    "\n",
    "What is the 10 001st prime number?"
   ]
  },
  {
   "cell_type": "code",
   "execution_count": 15,
   "id": "afc35d12",
   "metadata": {
    "slideshow": {
     "slide_type": "fragment"
    }
   },
   "outputs": [
    {
     "name": "stdout",
     "output_type": "stream",
     "text": [
      "1.08 µs ± 18.6 ns per loop (mean ± std. dev. of 7 runs, 1,000,000 loops each)\n"
     ]
    },
    {
     "data": {
      "text/plain": [
       "104743"
      ]
     },
     "execution_count": 15,
     "metadata": {},
     "output_type": "execute_result"
    }
   ],
   "source": [
    "# SAGEmath makes this feels almost like cheating...\n",
    "P = Primes()\n",
    "%timeit P.unrank(10000)\n",
    "P.unrank(10000)"
   ]
  },
  {
   "cell_type": "markdown",
   "id": "827aeb53",
   "metadata": {},
   "source": [
    "#### Problem 8\n",
    "\n",
    "The four adjacent digits in the 1000-digit number that have the greatest product are 9 × 9 × 8 × 9 = 5832.\n",
    "```\n",
    "73167176531330624919225119674426574742355349194934\n",
    "96983520312774506326239578318016984801869478851843\n",
    "85861560789112949495459501737958331952853208805511\n",
    "12540698747158523863050715693290963295227443043557\n",
    "66896648950445244523161731856403098711121722383113\n",
    "62229893423380308135336276614282806444486645238749\n",
    "30358907296290491560440772390713810515859307960866\n",
    "70172427121883998797908792274921901699720888093776\n",
    "65727333001053367881220235421809751254540594752243\n",
    "52584907711670556013604839586446706324415722155397\n",
    "53697817977846174064955149290862569321978468622482\n",
    "83972241375657056057490261407972968652414535100474\n",
    "82166370484403199890008895243450658541227588666881\n",
    "16427171479924442928230863465674813919123162824586\n",
    "17866458359124566529476545682848912883142607690042\n",
    "24219022671055626321111109370544217506941658960408\n",
    "07198403850962455444362981230987879927244284909188\n",
    "84580156166097919133875499200524063689912560717606\n",
    "05886116467109405077541002256983155200055935729725\n",
    "71636269561882670428252483600823257530420752963450\n",
    "```\n",
    "Find the thirteen adjacent digits in the 1000-digit number that have the greatest product. What is the value of this product?"
   ]
  },
  {
   "cell_type": "code",
   "execution_count": 31,
   "id": "cbdc2258",
   "metadata": {},
   "outputs": [
    {
     "data": {
      "text/plain": [
       "23514624000"
      ]
     },
     "execution_count": 31,
     "metadata": {},
     "output_type": "execute_result"
    }
   ],
   "source": [
    "# After coping the input into a textfile in the same directory as the notebook...\n",
    "input_txt = os.path.join(os.path.dirname(notebook_path), \"input7.txt\")\n",
    "input = \"\"\n",
    "with open(input_txt) as file:\n",
    "    for line in file:\n",
    "        input += line.strip()\n",
    "\n",
    "prod_set = set()\n",
    "\n",
    "for i in range(len(input)-13):\n",
    "    prod_set.add(prod([int(x) for x in input[i:i+13]]))\n",
    "    \n",
    "max(prod_set)"
   ]
  },
  {
   "cell_type": "markdown",
   "id": "23cc9ef8",
   "metadata": {},
   "source": [
    "#### Problem 9\n",
    "A Pythagorean triplet is a set of three natural numbers, $a < b < c$, for which,\n",
    "\n",
    "$$a^2 + b^2 = c^2$$\n",
    "For example, $32 + 42 = 9 + 16 = 25 = 52$.\n",
    "\n",
    "There exists exactly one Pythagorean triplet for which $a + b + c = 1000$.\n",
    "Find the product abc."
   ]
  }
 ],
 "metadata": {
  "celltoolbar": "Slideshow",
  "kernelspec": {
   "display_name": "SageMath 9.0",
   "language": "sage",
   "name": "sagemath"
  },
  "language_info": {
   "codemirror_mode": {
    "name": "ipython",
    "version": 3
   },
   "file_extension": ".py",
   "mimetype": "text/x-python",
   "name": "python",
   "nbconvert_exporter": "python",
   "pygments_lexer": "ipython3",
   "version": "3.8.10"
  },
  "varInspector": {
   "cols": {
    "lenName": 16,
    "lenType": 16,
    "lenVar": 40
   },
   "kernels_config": {
    "python": {
     "delete_cmd_postfix": "",
     "delete_cmd_prefix": "del ",
     "library": "var_list.py",
     "varRefreshCmd": "print(var_dic_list())"
    },
    "r": {
     "delete_cmd_postfix": ") ",
     "delete_cmd_prefix": "rm(",
     "library": "var_list.r",
     "varRefreshCmd": "cat(var_dic_list()) "
    }
   },
   "types_to_exclude": [
    "module",
    "function",
    "builtin_function_or_method",
    "instance",
    "_Feature"
   ],
   "window_display": false
  }
 },
 "nbformat": 4,
 "nbformat_minor": 5
}
