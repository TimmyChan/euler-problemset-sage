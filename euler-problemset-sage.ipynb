{
 "cells": [
  {
   "cell_type": "markdown",
   "id": "cc48a06f",
   "metadata": {
    "slideshow": {
     "slide_type": "slide"
    }
   },
   "source": [
    "# Project Euler Problemset \n",
    "## With SAGEMath and Jupyter\n",
    "\n",
    "Editor: [Timmy L. Chan](https://github.com/TimmyChan)"
   ]
  },
  {
   "cell_type": "markdown",
   "id": "2ec5c2c7",
   "metadata": {
    "slideshow": {
     "slide_type": "skip"
    }
   },
   "source": [
    "This [SAGEmath](https://www.sagemath.org/) (Python) Jupyter practice notebook exists as a portfolio component to demonstrate mastery to employers. Since I'm a big fan of SAGEmath, this is also somewhat of a case study for why SAGEmath make a lot of relatively complex mathematical questions simple to optimize. \n",
    "\n",
    "If you are solving the problems for the sake of learning and found yourself here, please read this excerpt from the [Project Euler](https://projecteuler.net/) page: \n",
    "> _There is nothing quite like that \"Aha!\" moment when you finally beat a problem which you have been working on for some time. It is often through the best of intentions in wishing to share our insights so that others can enjoy that moment too. Sadly, that will rarely be the case for your readers. Real learning is an active process and seeing how it is done is a long way from experiencing that epiphany of discovery. Please do not deny others what you have so richly valued yourself._"
   ]
  },
  {
   "cell_type": "markdown",
   "id": "0d30c746",
   "metadata": {
    "slideshow": {
     "slide_type": "slide"
    }
   },
   "source": [
    "\n",
    "### Why SAGEmath for Project Euler Problems\n",
    "\n",
    "The approach to these problems focuses on using the appropriate tools to tackle appropriate problems. Since mathematical research software have seen significant optimization in NumPy, SciPy, etc., and C++ packages make things go vroom already. "
   ]
  },
  {
   "cell_type": "markdown",
   "id": "d211fa72",
   "metadata": {
    "slideshow": {
     "slide_type": "fragment"
    }
   },
   "source": [
    "SAGEmath is appropriate because:\n",
    "\n",
    "0. **Accessibility**: Sagemath is _FOSS_ alternative to Magma, Maple, Mathematica, and MATLAB; designed by and for mathematics researchers, and usable for anyone who knows python.\n",
    "\n",
    "1. **Ease of Use**:\n",
    "   - [Linux installation](https://doc.sagemath.org/html/en/installation/linux.html#sec-gnu-linux) is super easy on Linux since Python and TeX come prepackaged in many distros. Windows and Mac simple installation also available too.\n",
    "   - [Jupyter integration] as demonstrated in this project. \n",
    "   - [CoCalc](https://cocalc.com/features/sage) allows for collaborative computational work (freemium).\n",
    "   \n",
    "2. **Highly Optimized**: \"SageMath allows those students who are more interested in math than `malloc()` to spend more time thinking about math and less time figuring out why their code segfaults.\"\n"
   ]
  },
  {
   "cell_type": "markdown",
   "id": "87dd529f",
   "metadata": {
    "slideshow": {
     "slide_type": "notes"
    }
   },
   "source": [
    "#### Notes:\n",
    "- `README.md` is the output of the `euler-problemset-sage.ipynb` file.\n",
    "- [LaTeX](https://www.latex-project.org/) elements in this document can be viewed using these browser extensions:\n",
    "   - [Native Mathml (Firefox)](https://addons.mozilla.org/en-US/firefox/addon/native-mathml/) [Source](https://github.com/fred-wang/webextension-native-mathml)\n",
    "   - [Tex All the Things (Chrome)](https://chrome.google.com/webstore/detail/tex-all-the-things/cbimabofgmfdkicghcadidpemeenbffn?hl=en) [Source](https://github.com/emichael/texthings)\n"
   ]
  },
  {
   "cell_type": "markdown",
   "id": "0b3bf9a5",
   "metadata": {
    "slideshow": {
     "slide_type": "slide"
    }
   },
   "source": [
    "## Problems and Solutions"
   ]
  },
  {
   "cell_type": "markdown",
   "id": "e13a4c27",
   "metadata": {
    "slideshow": {
     "slide_type": "slide"
    }
   },
   "source": [
    "### Problem 1\n",
    "If we list all the natural numbers below 10 that are multiples of 3 or 5, we get 3, 5, 6 and 9. The sum of these multiples is 23. Find the sum of all the multiples of 3 or 5 below 1000."
   ]
  },
  {
   "cell_type": "markdown",
   "id": "e57aad85",
   "metadata": {
    "slideshow": {
     "slide_type": "subslide"
    }
   },
   "source": [
    "#### Naive Solution:"
   ]
  },
  {
   "cell_type": "code",
   "execution_count": 1,
   "id": "3378bbef",
   "metadata": {
    "slideshow": {
     "slide_type": "fragment"
    }
   },
   "outputs": [
    {
     "data": {
      "text/plain": [
       "233168"
      ]
     },
     "execution_count": 1,
     "metadata": {},
     "output_type": "execute_result"
    }
   ],
   "source": [
    "# Python Simple Solution (1000 is so smol)\n",
    "\n",
    "sum([x for x in range(1,1000) if mod(x,3)==0 or mod(x,5)==0])"
   ]
  },
  {
   "cell_type": "markdown",
   "id": "c8deb85d",
   "metadata": {
    "slideshow": {
     "slide_type": "subslide"
    }
   },
   "source": [
    "#### Math Solution:\n",
    "\n",
    "Note that for an arithimetic sequence, $$\\sum_{i=j}^k a_i =  \\frac {n (a_j + a_k)} 2, \\text{ where $n$ is the number of terms to be summed}$$ \n",
    "\n",
    "And in the case of all the multiples of 3 under 1000, we can simply find \n",
    "1. How many multiples of 3 exists from 1 up to 999? ($n = \\left\\lfloor \\frac{1000} 3 \\right\\rfloor = 333$).\n",
    "2. First Term: 3, Last term: 999.\n",
    "\n",
    "Furthermore, note that if we create the set of all the multiples of 3 up to 999, and if we then create the set of all multiples of 5 up to 999, the multiples of 15 is counted twice; so we simply need to evaluate the sum of the first two finite arithimetic series and take away the last."
   ]
  },
  {
   "cell_type": "code",
   "execution_count": 2,
   "id": "43f9f970",
   "metadata": {
    "slideshow": {
     "slide_type": "subslide"
    }
   },
   "outputs": [
    {
     "data": {
      "text/plain": [
       "233168"
      ]
     },
     "execution_count": 2,
     "metadata": {},
     "output_type": "execute_result"
    }
   ],
   "source": [
    "# Using some arithimetic\n",
    "def sum_multiples_below(limit, divisor):\n",
    "    ''' Finds sum of all the natural numbers under the limit \n",
    "        that are divisible by the divisor'''\n",
    "    # The -1 on the upperbound is cuz the problem is \"strictly\" less than.\n",
    "    maxfactor = floor((limit-1)/divisor) \n",
    "    return (maxfactor)/2*(divisor + maxfactor*divisor)\n",
    "\n",
    "sum_multiples_below(1000, 3) + sum_multiples_below(1000, 5) - sum_multiples_below(1000,15)\n"
   ]
  },
  {
   "cell_type": "markdown",
   "id": "16e66746",
   "metadata": {
    "slideshow": {
     "slide_type": "subslide"
    }
   },
   "source": [
    "A Quick Comparision between the two methods:"
   ]
  },
  {
   "cell_type": "code",
   "execution_count": null,
   "id": "8743d004",
   "metadata": {
    "slideshow": {
     "slide_type": "fragment"
    }
   },
   "outputs": [],
   "source": [
    "%timeit sum([x for x in range(1,1000000) if mod(x,3)==0 or mod(x,5)==0])\n",
    "\n",
    "%timeit sum_multiples_below(1000000, 3) + sum_multiples_below(1000000, 5) - sum_multiples_below(1000000,15)"
   ]
  },
  {
   "cell_type": "markdown",
   "id": "df2d1d31",
   "metadata": {
    "slideshow": {
     "slide_type": "slide"
    }
   },
   "source": [
    "### Problem 2\n",
    "\n",
    "Each new term in the Fibonacci sequence is generated by adding the previous two terms. By starting with 1 and 2, the first 10 terms will be: \n",
    "   \n",
    "   1, 2, 3, 5, 8, 13, 21, 34, 55, 89, ... \n",
    "   \n",
    "   By considering the terms in the Fibonacci sequence whose values do not exceed four million, find the sum of the even-valued terms."
   ]
  },
  {
   "cell_type": "markdown",
   "id": "a0c0050b",
   "metadata": {
    "slideshow": {
     "slide_type": "subslide"
    }
   },
   "source": [
    "#### Naive Solution:\n",
    "Since the requirements is only up to 4 million, we're not really going so far down the fibonaccci sequence. "
   ]
  },
  {
   "cell_type": "code",
   "execution_count": null,
   "id": "c894b8bf",
   "metadata": {
    "slideshow": {
     "slide_type": "fragment"
    }
   },
   "outputs": [],
   "source": [
    " def even_fib_sum(upperbound):\n",
    "    evensum = 0\n",
    "    i = 0\n",
    "    F = 0\n",
    "    while F < upperbound:\n",
    "        if mod(F,2) == 0:\n",
    "            evensum += F\n",
    "        i += 1\n",
    "        F = fibonacci(i)\n",
    "    return evensum\n",
    "\n",
    "print(even_fib_sum(4000000))"
   ]
  },
  {
   "cell_type": "markdown",
   "id": "1d3fb669",
   "metadata": {
    "slideshow": {
     "slide_type": "subslide"
    }
   },
   "source": [
    "#### Math Solution: \n",
    "\n",
    "First, recall the formal definition of the Fibonacci sequence. Given some natural number $n$, the $n$-th Fibonacci number, $F(n)$ is defined to be:\n",
    "\n",
    "$$ F(n) = F(n-1) + F(n-2) \\text{ with } F(0) = 0 \\text{ and } F(1) = 1.$$\n",
    "\n",
    "__Claims:__\n"
   ]
  },
  {
   "cell_type": "markdown",
   "id": "eacf8be8",
   "metadata": {
    "slideshow": {
     "slide_type": "fragment"
    }
   },
   "source": [
    "1. Every Fibnocci number whose index is a multiple of three is even, and only those are even."
   ]
  },
  {
   "cell_type": "markdown",
   "id": "54e31c6a",
   "metadata": {
    "slideshow": {
     "slide_type": "fragment"
    }
   },
   "source": [
    "2. The sum of _even_ Fibonacci numbers beginning from $F(0)$ up to some $F(n)$ is exactly half of the sum of all the Fibonacci numbers up to $F(n)$"
   ]
  },
  {
   "cell_type": "markdown",
   "id": "953b673d",
   "metadata": {
    "slideshow": {
     "slide_type": "fragment"
    }
   },
   "source": [
    "3. This sum can be evaluated with $\\displaystyle\\frac{(F(n+2)-1)} 2$"
   ]
  },
  {
   "cell_type": "markdown",
   "id": "45baf17e",
   "metadata": {
    "slideshow": {
     "slide_type": "subslide"
    }
   },
   "source": [
    "__Proofs:__ \n",
    "\n",
    "Claim 1: _Every Fibnocci number whose index is a multiple of three is even, and only those are even._\n",
    "\n",
    "Base case:\n",
    "$$\\begin{align*}\n",
    "F(1), F(2) \\text{ is odd } &\\implies F(3) \\text{ is even }; \\\\\n",
    "F(2) \\text{ is odd and } F(3) \\text{ is even } &\\implies F(4) \\text{ is odd }; \\\\\n",
    "F(3) \\text{ is even and }  F(4) \\text{ is odd } &\\implies F(5) \\text{ is odd }; \\\\\n",
    "F(4) \\text{ is odd and } F(5) \\text{ is odd } &\\implies F(6) \\text{ is even }.\n",
    "\\end{align*}$$\n",
    "\n",
    "Assuming that there exists two odd numbers in the sequence and the following must be even, then the same structure holds, and $F(n-2), F(n-1)$ is odd $\\implies F(n)$ must be even. Replacing the indcies of the above statements one will arrive then to the statement: $F(n)$ is even must imply F(n+3) is also even. Since F(3) is even, all index of even Fibnocci numbers are multiples of three. \n",
    "Q.E.D.\n",
    "\n",
    "That means we're really just summing up every third Fibnocci number."
   ]
  },
  {
   "cell_type": "markdown",
   "id": "c095f5db",
   "metadata": {
    "slideshow": {
     "slide_type": "subslide"
    }
   },
   "source": [
    "Proofs: \n",
    "\n",
    "Claim 2: _The sum of even Fibonacci numbers beginning from $F(0)$ up to some $F(n)$ is exactly half of the sum of all the Fibonacci numbers up to $F(n)$_\n",
    "\n",
    "$$\\begin{align*}\n",
    "\\sum_{i=0}^{k} F(3i) &=  F(3) + F(6) + \\cdots + F(3k)\\\\\n",
    "&\\text{ by subsitution definiton of each term:} \\\\\n",
    "\\sum_{i=0}^{k} F(3i) &=  (F(1) + F(2)) + (F(4) + F(5)) + \\cdots + (F(3k-2) + F(3k-1))\\\\ \n",
    "& \\text{ add the above two lines } \\\\\n",
    "\\implies 2 \\sum_{i=0}^{k} F(3i) &= F(1) + F(2) + F(3) + \\cdots + F(3k) \\\\\n",
    "\\implies \\sum_{i=0}^{k} F(3i) &= \\frac 1 2 \\sum_{i=0}^{3k} F(i) \\\\ \n",
    "\\end{align*}$$\n"
   ]
  },
  {
   "cell_type": "markdown",
   "id": "b30ad000",
   "metadata": {
    "slideshow": {
     "slide_type": "subslide"
    }
   },
   "source": [
    "Recall a well known lemma on the sum of the first $k$ terms of the Fibnocci sequence is exactly the $k+2$-th Fibnocci number minus one: $$\\displaystyle\\sum_{i=1}^k F(i) = F(k+2)-1,$$ which in turn imply $$\\sum_{i=0}^{k} F(3i) = \\frac{F(3k+2)-1} 2 $$ where $3k$ is the index of the largest even Fibonocci number under the defined upperbound. This index $3k$ such that $F(n) < M$ for some upperbound $M$ requires a couple of steps:\n",
    "1. Note $F_{3k} \\approx \\left\\lfloor\\frac{\\Phi^{3k}}{\\sqrt{5}}\\right\\rfloor$\n",
    "2. Thus, Given some $M$, we can estimate $n$ by examining the inverse:\n",
    "$$ \\begin{align*}\n",
    "M \\approx \\frac{\\Phi^{3k}}{\\sqrt{5}}\\\\\n",
    "\\implies \\ln(\\sqrt{5} M) &\\approx 3k \\ln(\\Phi) \\\\\n",
    "\\implies \\frac{\\ln(\\sqrt{5} M)}{\\ln(\\Phi)} &\\approx 3k\n",
    "\\end{align*}$$"
   ]
  },
  {
   "cell_type": "code",
   "execution_count": null,
   "id": "0b9d855f",
   "metadata": {
    "slideshow": {
     "slide_type": "subslide"
    }
   },
   "outputs": [],
   "source": [
    "def even_fib_sum_quick(upperbound):\n",
    "    # Quick estimate of Fibnacci index since Fib(n) is approx Phi^n / sqrt(5).\n",
    "    max_fib_index_est = int(round((ln(upperbound * sqrt(5))/ln(golden_ratio)), 0))\n",
    "    \n",
    "    # Nearest even fibonacci has index that is a multiple of 3\n",
    "    max_even_fib_index_est = max_fib_index_est - (max_fib_index_est % 3)\n",
    "    \n",
    "    return round((fibonacci(max_even_fib_index_est+2)-1)/2,0)\n",
    "\n",
    "print(even_fib_sum_quick(4000000))"
   ]
  },
  {
   "cell_type": "code",
   "execution_count": null,
   "id": "b2eeda12",
   "metadata": {
    "slideshow": {
     "slide_type": "fragment"
    }
   },
   "outputs": [],
   "source": [
    "# Comparing the Methods\n",
    "%timeit even_fib_sum(1e100)\n",
    "%timeit even_fib_sum_quick(1e100)"
   ]
  },
  {
   "cell_type": "markdown",
   "id": "aa33fa4a",
   "metadata": {
    "slideshow": {
     "slide_type": "slide"
    }
   },
   "source": [
    "#### Problem 3\n",
    "\n",
    "The prime factors of 13195 are 5, 7, 13 and 29.\n",
    "What is the largest prime factor of the number 600851475143?\n",
    "\n",
    "__Remarks:__\n",
    "Prime factorization is already optimized in SAGEmath."
   ]
  },
  {
   "cell_type": "code",
   "execution_count": null,
   "id": "232f2ab1",
   "metadata": {
    "slideshow": {
     "slide_type": "fragment"
    }
   },
   "outputs": [],
   "source": [
    "%timeit factor(600851475143)\n",
    "\n",
    "factor(600851475143)"
   ]
  },
  {
   "cell_type": "markdown",
   "id": "7e275e78",
   "metadata": {
    "slideshow": {
     "slide_type": "slide"
    }
   },
   "source": [
    "#### Problem 4\n",
    "A palindromic number reads the same both ways. The largest palindrome made from the product of two 2-digit numbers is 9009 = 91 × 99.\n",
    "\n",
    "Find the largest palindrome made from the product of two 3-digit numbers.\n",
    "\n",
    "__Remarks__: \n",
    "\n",
    "First, we begin with picturing these products a $M \\times M$ matrix $\\mathbf{P}$, where $M$ is the maximum listed above (999 in this case). \n",
    "$$ P_{m,n} =  mn \\text{ where } m,n \\in \\mathbb{N}_{\\leq M}$$\n",
    "\n",
    "So $P_{999,999} = 999^2$, for example. Suppose we fix the sum of the indcies, say $k \\in \\mathbb{N}$ such that $k \\leq 2M$. \n",
    "Let's arrange these sets into vectors:\n",
    "\n",
    "$$ V_k = \\begin{cases}\n",
    "(\\frac - i)(\\frac k 2 + i)  & \\text{ for $i$ increasing up to } $M - \\frac k 2$ \\\\\n",
    "1234 & k odd\n",
    "\\end{cases} $$\n"
   ]
  },
  {
   "cell_type": "markdown",
   "id": "5627f37a",
   "metadata": {
    "slideshow": {
     "slide_type": "slide"
    }
   },
   "source": [
    "Note that if $a + b = K$ for some constant $K$, then $ab$ is maximized when $|a-b|$ is minimum. (Within the set of quadralaterals with the same perimeter, the square has the largest area). \n",
    "\n",
    "$$\\begin{align*}\n",
    " (2 a c + c ^ 2) &> 0 \\\\\n",
    "c (2 a + c) \\uparrow & \\text{ as } c \\uparrow \\\\\n",
    "(a + c) (a - c) &= a^2 - 2ac - c^2 \\\\\n",
    "a^2 - (2ac + c^2) &< a^2 \\\\\n",
    "\\end{align*}\n",
    "$$"
   ]
  },
  {
   "cell_type": "code",
   "execution_count": null,
   "id": "d63eedc8",
   "metadata": {
    "slideshow": {
     "slide_type": "subslide"
    }
   },
   "outputs": [],
   "source": [
    "def find_largest_palindrome_product(lower=1,upper=999):\n",
    "    ''' \n",
    "    Finds Largest Palindrome formed by the product of two numbers\n",
    "    from the interval [lower, upper]. Returns 0 if none found.\n",
    "    '''\n",
    "    if lower <= 0:\n",
    "        lower = 1\n",
    "    if upper < lower:\n",
    "        raise Exception(\"Upper bound cannot be less than lower bound.\")\n",
    "    m = upper\n",
    "    n = upper\n",
    "    s = m+n\n",
    "    for i in range(2*(upper-lower)):\n",
    "        index_sum = 2*upper - i\n",
    "        if is_even(index_sum):\n",
    "            n = index_sum / 2\n",
    "            m = index_sum / 2\n",
    "        else:\n",
    "            n = floor(index_sum / 2) +1\n",
    "            m = floor(index_sum / 2)\n",
    "        while n <= upper and m >= lower:\n",
    "            prod = m*n\n",
    "            DEBUG: print(\"(%d)*(%d) = %d\" % (m,n,prod))\n",
    "            if Word(str(prod)).is_palindrome():\n",
    "                return prod\n",
    "            n += 1\n",
    "            m -= 1\n",
    "\n",
    "    return 0\n",
    "        \n",
    "find_largest_palindrome_product(100000, 999999)\n"
   ]
  },
  {
   "cell_type": "code",
   "execution_count": null,
   "id": "0b6e73cd",
   "metadata": {
    "slideshow": {
     "slide_type": "subslide"
    }
   },
   "outputs": [],
   "source": [
    "m = 999\n",
    "n = 999\n",
    "\n",
    "palindrome_prod = []\n",
    "\n",
    "while m > 100:\n",
    "    while n >= m:\n",
    "        prod = m*n\n",
    "        if Word(str(prod)).is_palindrome():\n",
    "            palindrome_prod.append(prod)\n",
    "        n -= 1\n",
    "    m -= 1\n",
    "    n = 999\n",
    "\n",
    "print(max(palindrome_prod))"
   ]
  },
  {
   "cell_type": "markdown",
   "id": "c4c0f6e5",
   "metadata": {
    "slideshow": {
     "slide_type": "slide"
    }
   },
   "source": [
    "#### Problem 5\n",
    "\n",
    "2520 is the smallest number that can be divided by each of the numbers from 1 to 10 without any remainder.\n",
    "\n",
    "What is the smallest positive number that is evenly divisible by all of the numbers from 1 to 20?\n",
    "\n",
    "__Remarks:__ By definition, the least common multiple, $m$, of a set of natural numbers $n_1, \\ldots, n_k$, is the smallest number such that $n_i | m$ for $i = 1,\\ldots, k$. "
   ]
  },
  {
   "cell_type": "code",
   "execution_count": null,
   "id": "b0d2aa4d",
   "metadata": {
    "slideshow": {
     "slide_type": "subslide"
    }
   },
   "outputs": [],
   "source": [
    "%timeit lcm(range(1,21))\n",
    "lcm(range(1,21))"
   ]
  },
  {
   "cell_type": "markdown",
   "id": "a55fbb25",
   "metadata": {
    "slideshow": {
     "slide_type": "slide"
    }
   },
   "source": [
    "#### Problem 6\n",
    "\n",
    "The sum of the squares of the first ten natural numbers is 385\n",
    "\n",
    "The square of the sum of the first ten natural numbers is 3025\n",
    "\n",
    "Hence the difference between the sum of the squares of the first ten natural numbers and the square of the sum is .\n",
    "\n",
    "Find the difference between the sum of the squares of the first one hundred natural numbers and the square of the sum."
   ]
  },
  {
   "cell_type": "code",
   "execution_count": null,
   "id": "4f4b9b6a",
   "metadata": {
    "slideshow": {
     "slide_type": "subslide"
    }
   },
   "outputs": [],
   "source": [
    "sum(range(1,101))^2 - sum([x^2 for x in range(1,101)])"
   ]
  },
  {
   "cell_type": "code",
   "execution_count": null,
   "id": "5dff0f38",
   "metadata": {
    "slideshow": {
     "slide_type": "skip"
    }
   },
   "outputs": [],
   "source": []
  }
 ],
 "metadata": {
  "celltoolbar": "Slideshow",
  "kernelspec": {
   "display_name": "SageMath 9.0",
   "language": "sage",
   "name": "sagemath"
  },
  "language_info": {
   "codemirror_mode": {
    "name": "ipython",
    "version": 3
   },
   "file_extension": ".py",
   "mimetype": "text/x-python",
   "name": "python",
   "nbconvert_exporter": "python",
   "pygments_lexer": "ipython3",
   "version": "3.8.10"
  }
 },
 "nbformat": 4,
 "nbformat_minor": 5
}
