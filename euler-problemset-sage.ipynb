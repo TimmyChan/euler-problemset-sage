{
 "cells": [
  {
   "cell_type": "markdown",
   "id": "97eece01",
   "metadata": {},
   "source": [
    "# Euler Problemset using SAGEMath\n",
    "\n",
    "This [SAGEmath](https://www.sagemath.org/) (Python) Jupyter practice notebook exists as a portfolio component to demonstrate mastery to employers. Since I'm a big fan of SAGEmath, this is also somewhat of a case study for why SAGEmath make a lot of relatively complex mathematical questions simple to optimize. \n",
    "\n",
    "If you are solving the problems for the sake of learning and found yourself here, please read this excerpt from the [Project Euler](https://projecteuler.net/) page: \n",
    "> _There is nothing quite like that \"Aha!\" moment when you finally beat a problem which you have been working on for some time. It is often through the best of intentions in wishing to share our insights so that others can enjoy that moment too. Sadly, that will rarely be the case for your readers. Real learning is an active process and seeing how it is done is a long way from experiencing that epiphany of discovery. Please do not deny others what you have so richly valued yourself._"
   ]
  },
  {
   "cell_type": "markdown",
   "id": "683d4936",
   "metadata": {},
   "source": [
    "\n",
    "### Why SAGEmath for Project Euler Problems\n",
    "\n",
    "The approach to these problems focuses on using the appropriate tools to tackle appropriate problems. Since mathematical research software have seen significant optimization in NumPy, SciPy, etc., and C++ packages make things go vroom already, SAGEmath is appropriate because:\n",
    "\n",
    "0. **Accessibility**: Sagemath is _FOSS_ alternative to Magma, Maple, Mathematica, and MATLAB; designed by and for mathematics researchers, and usable for anyone who knows python.\n",
    "1. **Ease of Use**:\n",
    "   - [Linux installation](https://doc.sagemath.org/html/en/installation/linux.html#sec-gnu-linux) is super easy on Linux since Python and TeX come prepackaged in many distros. Windows and Mac simple installation also available too.\n",
    "   - [Jupyter integration] as demonstrated in this project. \n",
    "   - [CoCalc](https://cocalc.com/features/sage) allows for collaborative computational work (freemium).\n",
    "2. **Highly Optimized**: \"SageMath allows those students who are more interested in math than `malloc()` to spend more time thinking about math and less time figuring out why their code segfaults.\"\n"
   ]
  },
  {
   "cell_type": "markdown",
   "id": "c962270e",
   "metadata": {},
   "source": [
    "### Dev Notes:\n",
    "- `README.md` is the output of the `euler-problemset-sage.ipynb` file.\n",
    "- [LaTeX](https://www.latex-project.org/) elements created using [Code Cogs](https://latex.codecogs.com/)."
   ]
  },
  {
   "cell_type": "markdown",
   "id": "fa16fe50",
   "metadata": {},
   "source": [
    "## Problems and Solutions"
   ]
  },
  {
   "cell_type": "markdown",
   "id": "9abf2d2a",
   "metadata": {},
   "source": [
    "#### Problem 1\n",
    "If we list all the natural numbers below 10 that are multiples of 3 or 5, we get 3, 5, 6 and 9. The sum of these multiples is 23. Find the sum of all the multiples of 3 or 5 below 1000."
   ]
  },
  {
   "cell_type": "markdown",
   "id": "aa0783dd",
   "metadata": {},
   "source": [
    "_Naive Solution:_"
   ]
  },
  {
   "cell_type": "code",
   "execution_count": 1,
   "id": "ae55ef12",
   "metadata": {},
   "outputs": [
    {
     "name": "stdout",
     "output_type": "stream",
     "text": [
      "3.93 ms ± 132 µs per loop (mean ± std. dev. of 7 runs, 100 loops each)\n",
      "233168\n"
     ]
    }
   ],
   "source": [
    "\n",
    "# Python Simple Solution (1000 is so smol)\n",
    "\n",
    "%timeit sum([x for x in range(1,1000) if mod(x,3)==0 or mod(x,5)==0])\n",
    "print(sum([x for x in range(1,1000) if mod(x,3)==0 or mod(x,5)==0]))"
   ]
  },
  {
   "cell_type": "markdown",
   "id": "f109d7be",
   "metadata": {},
   "source": [
    "_Math Solution:_\n",
    "\n",
    "Note that for an arithimetic sequence, $$\\sum_{i=j}^k a_i =  \\frac {n (a_j + a_k)} 2, \\;\\;\\text{where $n$ is the number of terms, or $k-j$ in this construction}$$ \n",
    "\n",
    "And in the case of all the multiples of 3 under 1000, we can simply find \n",
    "1. How many multiples of 3 exists from 1 up to 999? (n = 333).\n",
    "2. First Term: 3, Last term: 999.\n",
    "\n",
    "Furthermore, note that if we create the set of all the multiples of 3 up to 999, and if we then create the set of all multiples of 5 up to 999, the multiples of 15 is counted twice; so we simply need to evaluate the sum of the first two finite arithimetic series and take away the last."
   ]
  },
  {
   "cell_type": "code",
   "execution_count": 2,
   "id": "fe90cbf1",
   "metadata": {},
   "outputs": [
    {
     "name": "stdout",
     "output_type": "stream",
     "text": [
      "limit: 1000, divisor: 3 => maxfactor: 333\n",
      "\t returning 333/2 * (3 + 333 * 3) = 166833\n",
      "limit: 1000, divisor: 5 => maxfactor: 199\n",
      "\t returning 199/2 * (5 + 199 * 5) = 99500\n",
      "limit: 1000, divisor: 15 => maxfactor: 66\n",
      "\t returning 66/2 * (15 + 66 * 15) = 33165\n",
      "233168\n"
     ]
    }
   ],
   "source": [
    "# Using some arithimetic\n",
    "def sum_multiples_below(limit, divisor):\n",
    "    maxfactor = floor((limit-1)/divisor)\n",
    "    result = (maxfactor)/2*(divisor + maxfactor*divisor)\n",
    "    print(\"limit: %d, divisor: %d => maxfactor: %d\" % (limit, divisor, maxfactor))\n",
    "    print(\"\\t returning %d/2 * (%d + %d * %d) = %d\" % (maxfactor, divisor, maxfactor, divisor, result))\n",
    "    return result\n",
    "\n",
    "print(sum_multiples_below(1000, 3) + sum_multiples_below(1000, 5) - sum_multiples_below(1000,15))\n"
   ]
  },
  {
   "cell_type": "markdown",
   "id": "aee2ab44",
   "metadata": {},
   "source": [
    "2. Each new term in the Fibonacci sequence is generated by adding the previous two terms. By starting with 1 and 2, the first 10 terms will be: \n",
    "   \n",
    "   1, 2, 3, 5, 8, 13, 21, 34, 55, 89, ... \n",
    "   \n",
    "   By considering the terms in the Fibonacci sequence whose values do not exceed four million, find the sum of the even-valued terms."
   ]
  },
  {
   "cell_type": "markdown",
   "id": "0105c305",
   "metadata": {},
   "source": [
    "_Naive Solution:_"
   ]
  },
  {
   "cell_type": "code",
   "execution_count": 3,
   "id": "2d38e62c",
   "metadata": {},
   "outputs": [
    {
     "data": {
      "text/plain": [
       "4613732"
      ]
     },
     "execution_count": 3,
     "metadata": {},
     "output_type": "execute_result"
    }
   ],
   "source": [
    "evensum = 0\n",
    "for i in range(1000):\n",
    "    F = fibonacci(i)\n",
    "    if F > 4000000:\n",
    "        break\n",
    "    if mod(F,2) == 0:\n",
    "        evensum += F\n",
    "evensum"
   ]
  },
  {
   "cell_type": "markdown",
   "id": "0f71234d",
   "metadata": {},
   "source": [
    "_Math Solution:_\n",
    "\n"
   ]
  },
  {
   "cell_type": "markdown",
   "id": "ba6f3565",
   "metadata": {},
   "source": [
    "3. The prime factors of 13195 are 5, 7, 13 and 29.\n",
    "\n",
    "   What is the largest prime factor of the number 600851475143?"
   ]
  },
  {
   "cell_type": "code",
   "execution_count": 4,
   "id": "e6dd9f77",
   "metadata": {},
   "outputs": [
    {
     "name": "stdout",
     "output_type": "stream",
     "text": [
      "5.04 µs ± 160 ns per loop (mean ± std. dev. of 7 runs, 100,000 loops each)\n"
     ]
    },
    {
     "data": {
      "text/plain": [
       "71 * 839 * 1471 * 6857"
      ]
     },
     "execution_count": 4,
     "metadata": {},
     "output_type": "execute_result"
    }
   ],
   "source": [
    "%timeit factor(600851475143)\n",
    "\n",
    "factor(600851475143)"
   ]
  },
  {
   "cell_type": "markdown",
   "id": "dd1be1e6",
   "metadata": {},
   "source": [
    "4. A palindromic number reads the same both ways. The largest palindrome made from the product of two 2-digit numbers is 9009 = 91 × 99.\n",
    "\n",
    "   Find the largest palindrome made from the product of two 3-digit numbers."
   ]
  },
  {
   "cell_type": "code",
   "execution_count": null,
   "id": "1c1db2bd",
   "metadata": {},
   "outputs": [],
   "source": [
    "m = 999\n",
    "n = 999\n",
    "\n",
    "palindrome_prod = []\n",
    "\n",
    "while m > 100:\n",
    "    while n >= m:\n",
    "        prod = m*n\n",
    "        if Word(str(prod)).is_palindrome():\n",
    "            palindrome_prod.append(prod)\n",
    "        n -= 1\n",
    "    m -= 1\n",
    "    n = 999\n",
    "\n",
    "print(max(palindrome_prod))"
   ]
  },
  {
   "cell_type": "markdown",
   "id": "7114c8eb",
   "metadata": {},
   "source": [
    "2520 is the smallest number that can be divided by each of the numbers from 1 to 10 without any remainder.\n",
    "\n",
    "What is the smallest positive number that is evenly divisible by all of the numbers from 1 to 20?"
   ]
  },
  {
   "cell_type": "code",
   "execution_count": null,
   "id": "9228b639",
   "metadata": {},
   "outputs": [],
   "source": [
    "%%timeit \n",
    "lcm(range(1,21))"
   ]
  },
  {
   "cell_type": "markdown",
   "id": "bb171efd",
   "metadata": {},
   "source": [
    "The sum of the squares of the first ten natural numbers is 385\n",
    "\n",
    "The square of the sum of the first ten natural numbers is 3025\n",
    "\n",
    "Hence the difference between the sum of the squares of the first ten natural numbers and the square of the sum is .\n",
    "\n",
    "Find the difference between the sum of the squares of the first one hundred natural numbers and the square of the sum."
   ]
  },
  {
   "cell_type": "code",
   "execution_count": null,
   "id": "3c605ec3",
   "metadata": {},
   "outputs": [],
   "source": [
    "sum(range(1,101))^2 - sum([x^2 for x in range(1,101)])"
   ]
  },
  {
   "cell_type": "code",
   "execution_count": null,
   "id": "6a215e22",
   "metadata": {},
   "outputs": [],
   "source": []
  }
 ],
 "metadata": {
  "kernelspec": {
   "display_name": "SageMath 9.0",
   "language": "sage",
   "name": "sagemath"
  },
  "language_info": {
   "codemirror_mode": {
    "name": "ipython",
    "version": 3
   },
   "file_extension": ".py",
   "mimetype": "text/x-python",
   "name": "python",
   "nbconvert_exporter": "python",
   "pygments_lexer": "ipython3",
   "version": "3.8.10"
  }
 },
 "nbformat": 4,
 "nbformat_minor": 5
}
